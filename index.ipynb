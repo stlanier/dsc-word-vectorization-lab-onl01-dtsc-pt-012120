{
 "cells": [
  {
   "cell_type": "markdown",
   "metadata": {},
   "source": [
    "# Word Vectorization - Lab\n",
    "\n",
    "## Introduction\n",
    "\n",
    "In this lab, you'll tokenize and vectorize text documents, create and use a bag of words, and identify words unique to individual documents using TF-IDF vectorization. \n",
    "\n",
    "\n",
    "## Objectives\n",
    "\n",
    "In this lab you will:  \n",
    "\n",
    "- Implement tokenization and count vectorization from scratch \n",
    "- Implement TF-IDF from scratch \n",
    "- Use dimensionality reduction on vectorized text data to create and interpret visualizations \n",
    "\n",
    "## Let's get started!\n",
    "\n",
    "Run the cell below to import everything necessary for this lab.  "
   ]
  },
  {
   "cell_type": "code",
   "execution_count": 1,
   "metadata": {},
   "outputs": [],
   "source": [
    "import pandas as pd\n",
    "import numpy as np\n",
    "from mpl_toolkits.mplot3d import Axes3D\n",
    "import matplotlib.pyplot as plt\n",
    "%matplotlib inline\n",
    "from sklearn.manifold import TSNE\n",
    "from nltk.tokenize import word_tokenize\n",
    "np.random.seed(0)"
   ]
  },
  {
   "cell_type": "markdown",
   "metadata": {},
   "source": [
    "### Our Corpus\n",
    "\n",
    "In this lab, we'll be working with 20 different documents, each containing song lyrics from either Garth Brooks or Kendrick Lamar albums.  \n",
    "\n",
    "The songs are contained within the `data` subdirectory, contained within the same folder as this lab.  Each song is stored in a single file, with files ranging from `song1.txt` to `song20.txt`.  \n",
    "\n",
    "To make it easy to read in all of the documents, use a list comprehension to create a list containing the name of every single song file in the cell below. "
   ]
  },
  {
   "cell_type": "code",
   "execution_count": 2,
   "metadata": {},
   "outputs": [
    {
     "data": {
      "text/plain": [
       "['song1.txt',\n",
       " 'song2.txt',\n",
       " 'song3.txt',\n",
       " 'song4.txt',\n",
       " 'song5.txt',\n",
       " 'song6.txt',\n",
       " 'song7.txt',\n",
       " 'song8.txt',\n",
       " 'song9.txt',\n",
       " 'song10.txt',\n",
       " 'song11.txt',\n",
       " 'song12.txt',\n",
       " 'song13.txt',\n",
       " 'song14.txt',\n",
       " 'song15.txt',\n",
       " 'song16.txt',\n",
       " 'song17.txt',\n",
       " 'song18.txt',\n",
       " 'song19.txt',\n",
       " 'song20.txt']"
      ]
     },
     "execution_count": 2,
     "metadata": {},
     "output_type": "execute_result"
    }
   ],
   "source": [
    "filenames = [f'song{x}.txt' for x in range(1, 21)]\n",
    "filenames"
   ]
  },
  {
   "cell_type": "markdown",
   "metadata": {},
   "source": [
    "Next, create an empty DataFrame called `songs_df`.  As we read in the songs and store and clean them, we'll store them in this DataFrame."
   ]
  },
  {
   "cell_type": "code",
   "execution_count": 3,
   "metadata": {},
   "outputs": [],
   "source": [
    "songs_df = pd.DataFrame()"
   ]
  },
  {
   "cell_type": "markdown",
   "metadata": {},
   "source": [
    "Next, let's import a single song to see what our text looks like so that we can make sure we clean and tokenize it correctly. \n",
    "\n",
    "In the cell below, read in and print out the lyrics from `song11.txt`.  Use vanilla Python, no pandas needed.  "
   ]
  },
  {
   "cell_type": "code",
   "execution_count": 7,
   "metadata": {},
   "outputs": [
    {
     "name": "stdout",
     "output_type": "stream",
     "text": [
      "['[Kendrick Lamar:]\\n', \"Love, let's talk about love\\n\", 'Is it anything and everything you hoped for?\\n', 'Or do the feeling haunt you?\\n', 'I know the feeling haunt you\\n', '[SZA:]\\n', 'This may be the night that my dreams might let me know\\n', 'All the stars approach you, all the stars approach you, all the stars approach you\\n', 'This may be the night that my dreams might let me know\\n', 'All the stars are closer, all the stars are closer, all the stars are closer\\n', '[Kendrick Lamar:]\\n', \"Tell me what you gon' do to me\\n\", \"Confrontation ain't nothin' new to me\\n\", 'You can bring a bullet, bring a sword, bring a morgue\\n', \"But you can't bring the truth to me\\n\", 'Fuck you and all your expectations\\n', \"I don't even want your congratulations\\n\", 'I recognize your false confidence\\n', 'And calculated promises all in your conversation\\n', 'I hate people that feel entitled\\n', \"Look at me crazy 'cause I ain't invite you\\n\", 'Oh, you important?\\n', \"You the moral to the story? You endorsin'?\\n\", \"Motherfucker, I don't even like you\\n\", \"Corrupt a man's heart with a gift\\n\", \"That's how you find out who you dealin' with\\n\", \"A small percentage who I'm buildin' with\\n\", \"I want the credit if I'm losin' or I'm winnin'\\n\", \"On my momma, that's the realest shit\\n\", \"Love, let's talk about love\\n\", 'Is it anything and everything you hoped for?\\n', 'Or do the feeling haunt you?\\n', 'I know the feeling haunt you\\n', '[SZA:]\\n', 'This may be the night that my dreams might let me know\\n', 'All the stars approach you, all the stars approach you, all the stars approach you\\n', 'This may be the night that my dreams might let me know\\n', 'All the stars are closer, all the stars are closer, all the stars are closer\\n', 'Skin covered in ego\\n', \"Get to talkin' like ya involved, like a rebound\\n\", 'Got no end game, got no reason\\n', \"Got to stay down, it's the way that you making me feel\\n\", 'Like nobody ever loved me like you do, you do\\n', \"You kinda feeling like you're tryna get away from me\\n\", \"If you do, I won't move\\n\", \"I ain't just cryin' for no reason\\n\", \"I ain't just prayin' for no reason\\n\", 'I give thanks for the days, for the hours\\n', \"And another way, another life breathin'\\n\", \"I did it all 'cause it feel good\\n\", \"I wouldn't do it at all if it feel bad\\n\", \"Better live your life, we're runnin' out of time\\n\", '[Kendrick Lamar & SZA:]\\n', \"Love, let's talk about love\\n\", 'Is it anything and everything you hoped for?\\n', 'Or do the feeling haunt you?\\n', 'I know the feeling haunt you\\n', '[SZA:]\\n', 'This may be the night that my dreams might let me know\\n', 'All the stars approach you, all the stars approach you, all the stars approach you\\n', 'This may be the night that my dreams might let me know\\n', 'All the stars are closer, all the stars are closer, all the stars are closer\\n']\n"
     ]
    }
   ],
   "source": [
    "# Import and print song11.txt\n",
    "f = open('data/'+filenames[10], 'r')\n",
    "test = f.readlines()\n",
    "print(test)"
   ]
  },
  {
   "cell_type": "markdown",
   "metadata": {},
   "source": [
    "### Tokenizing our Data\n",
    "\n",
    "Before we can create a bag of words or vectorize each document, we need to clean it up and split each song into an array of individual words. Computers are very particular about strings. If we tokenized our data in its current state, we would run into the following problems:\n",
    "\n",
    "- Counting things that aren't actually words.  In the example above, `\"[Kendrick]\"` is a note specifying who is speaking, not a lyric contained in the actual song, so it should be removed.  \n",
    "- Punctuation and capitalization would mess up our word counts. To the Python interpreter, `love`, `Love`, `Love?`, and `Love\\n` are all unique words, and would all be counted separately.  We need to remove punctuation and capitalization, so that all words will be counted correctly. \n",
    "\n",
    "Consider the following sentences from the example above:\n",
    "\n",
    "`\"Love, let's talk about love\\n\", 'Is it anything and everything you hoped for?\\n'`\n",
    "\n",
    "After tokenization, this should look like:\n",
    "\n",
    "`['love', 'let's', 'talk', 'about', 'love', 'is', 'it', 'anything', 'and', 'everything', 'you', 'hoped', 'for']`\n",
    "\n",
    "Tokenization is pretty tedious if we handle it manually, and would probably make use of regular expressions, which is outside the scope of this lab. In order to keep this lab moving, we'll use a library function to clean and tokenize our data so that we can move onto vectorization.  \n",
    "\n",
    "Tokenization is a required task for just about any Natural Language Processing (NLP) task, so great industry-standard tools exist to tokenize things for us, so that we can spend our time on more important tasks without getting bogged down hunting every special symbol or punctuation in a massive dataset. For this lab, we'll make use of the tokenizer in the amazing `nltk` library, which is short for _Natural Language Tool Kit_.\n",
    "\n",
    "**_NOTE:_** NLTK requires extra installation methods to be run the first time certain methods are used.  If `nltk` throws you an error about needing to install additional packages, follow the instructions in the error message to install the dependencies, and then rerun the cell.  \n",
    "\n",
    "Before we tokenize our songs, we'll do only a small manual bit of cleaning. In the cell below, write a function that allows us to remove lines that have `['artist names']` in it, to ensure that our song files contain only lyrics that are actually in the song. For the lines that remain, make every word lowercase, remove newline characters `\\n`, and all the following punctuation marks: `\",.'?!\"`\n",
    "\n",
    "Test the function on `test_song` to show that it has successfully removed `'[Kendrick Lamar:]'` and other instances of artist names from the song and returned it.  "
   ]
  },
  {
   "cell_type": "code",
   "execution_count": 31,
   "metadata": {},
   "outputs": [
    {
     "name": "stdout",
     "output_type": "stream",
     "text": [
      " love lets talk about love is it anything and everything you hoped for or do the feeling haunt you i know the feeling haunt you  this may be the night that my dreams might let me know all the stars approach you all the stars approach you all the stars approach you this may be the night that my dreams might let me know all the stars are closer all the stars are closer all the stars are closer  tell me what you gon do to me confrontation aint nothin new to me you can bring a bullet bring a sword bring a morgue but you cant bring the truth to me fuck you and all your expectations i dont even want your congratulations i recognize your false confidence and calculated promises all in your conversation i hate people that feel entitled look at me crazy cause i aint invite you oh you important you the moral to the story you endorsin motherfucker i dont even like you corrupt a mans heart with a gift thats how you find out who you dealin with a small percentage who im buildin with i want the credit if im losin or im winnin on my momma thats the realest shit love lets talk about love is it anything and everything you hoped for or do the feeling haunt you i know the feeling haunt you  this may be the night that my dreams might let me know all the stars approach you all the stars approach you all the stars approach you this may be the night that my dreams might let me know all the stars are closer all the stars are closer all the stars are closer skin covered in ego get to talkin like ya involved like a rebound got no end game got no reason got to stay down its the way that you making me feel like nobody ever loved me like you do you do you kinda feeling like youre tryna get away from me if you do i wont move i aint just cryin for no reason i aint just prayin for no reason i give thanks for the days for the hours and another way another life breathin i did it all cause it feel good i wouldnt do it at all if it feel bad better live your life were runnin out of time  love lets talk about love is it anything and everything you hoped for or do the feeling haunt you i know the feeling haunt you  this may be the night that my dreams might let me know all the stars approach you all the stars approach you all the stars approach you this may be the night that my dreams might let me know all the stars are closer all the stars are closer all the stars are closer\n"
     ]
    }
   ],
   "source": [
    "def clean_song(song):\n",
    "    song = ' '.join(song)\n",
    "    song = song.lower()\n",
    "    song = song.replace('\\n', '')\n",
    "    for x in \",.'?!\":\n",
    "        song = song.replace(x, '')\n",
    "    while song.find('[') >= 0:\n",
    "        start = song.find('[')\n",
    "        end = song.find(']')\n",
    "        song = song[:start]+song[end+1:]\n",
    "    return song\n",
    "song_without_brackets = clean_song(test)\n",
    "print(song_without_brackets)"
   ]
  },
  {
   "cell_type": "markdown",
   "metadata": {},
   "source": [
    "Great. Now, write a function that takes in songs that have had their brackets removed, joins all of the lines into a single string, and then uses `tokenize()` on it to get a fully tokenized version of the song.  Test this function on `song_without_brackets` to ensure that the function works. "
   ]
  },
  {
   "cell_type": "code",
   "execution_count": 36,
   "metadata": {},
   "outputs": [
    {
     "name": "stderr",
     "output_type": "stream",
     "text": [
      "[nltk_data] Downloading package punkt to /Users/stlanier/nltk_data...\n",
      "[nltk_data]   Unzipping tokenizers/punkt.zip.\n"
     ]
    },
    {
     "data": {
      "text/plain": [
       "True"
      ]
     },
     "execution_count": 36,
     "metadata": {},
     "output_type": "execute_result"
    }
   ],
   "source": [
    "import nltk\n",
    "nltk.download('punkt')"
   ]
  },
  {
   "cell_type": "code",
   "execution_count": 38,
   "metadata": {},
   "outputs": [
    {
     "data": {
      "text/plain": [
       "['love',\n",
       " 'lets',\n",
       " 'talk',\n",
       " 'about',\n",
       " 'love',\n",
       " 'is',\n",
       " 'it',\n",
       " 'anything',\n",
       " 'and',\n",
       " 'everything']"
      ]
     },
     "execution_count": 38,
     "metadata": {},
     "output_type": "execute_result"
    }
   ],
   "source": [
    "def tokenize(song):\n",
    "    return word_tokenize(song)\n",
    "\n",
    "tokenized_test_song = tokenize(song_without_brackets)\n",
    "tokenized_test_song[:10]"
   ]
  },
  {
   "cell_type": "markdown",
   "metadata": {},
   "source": [
    "Great! Now that we can tokenize our songs, we can move onto vectorization. \n",
    "\n",
    "\n",
    "### Count Vectorization\n",
    "\n",
    "Machine Learning algorithms don't understand strings. However, they do understand math, which means they understand vectors and matrices.  By **_Vectorizing_** the text, we just convert the entire text into a vector, where each element in the vector represents a different word. The vector is the length of the entire vocabulary -- usually, every word that occurs in the English language, or at least every word that appears in our corpus.  Any given sentence can then be represented as a vector where all the vector is 1 (or some other value) for each time that word appears in the sentence. \n",
    "\n",
    "Consider the following example: \n",
    "\n",
    "<center>\"I scream, you scream, we all scream for ice cream.\"</center>\n",
    "\n",
    "| 'aardvark' | 'apple' | [...] | 'I' | 'you' | 'scream' | 'we' | 'all' | 'for' | 'ice' | 'cream' | [...] | 'xylophone' | 'zebra' |\n",
    "|:----------:|:-------:|:-----:|:---:|:-----:|:--------:|:----:|:-----:|:-----:|:-----:|:-------:|:-----:|:-----------:|:-------:|\n",
    "|      0     |    0    |   0   |  1  |   1   |     3    |   1  |   1   |   1   |   1   |    1    |   0   |      0      |    0    |\n",
    "\n",
    "This is called a **_Sparse Representation_**, since the strong majority of the columns will have a value of 0.  Note that elements corresponding to words that do not occur in the sentence have a value of 0, while words that do appear in the sentence have a value of 1 (or 1 for each time it appears in the sentence).\n",
    "\n",
    "Alternatively, we can represent this sentence as a plain old Python dictionary of word frequency counts:\n",
    "\n",
    "```python\n",
    "BoW = {\n",
    "    'I':1,\n",
    "    'you':1,\n",
    "    'scream':3,\n",
    "    'we':1,\n",
    "    'all':1,\n",
    "    'for':1,\n",
    "    'ice':1,\n",
    "    'cream':1\n",
    "}\n",
    "```\n",
    "\n",
    "Both of these are examples of **_Count Vectorization_**. They allow us to represent a sentence as a vector, with each element in the vector corresponding to how many times that word is used.\n",
    "\n",
    "#### Positional Information and Bag of Words\n",
    "\n",
    "Notice that when we vectorize a sentence this way, we lose the order that the words were in.  This is the **_Bag of Words_** approach mentioned earlier.  Note that sentences that contain the same words will create the same vectors, even if they mean different things -- e.g. `'cats are scared of dogs'` and `'dogs are scared of cats'` would both produce the exact same vector, since they contain the same words.  \n",
    "\n",
    "In the cell below, create a function that takes in a tokenized, cleaned song and returns a count vectorized representation of it as a Python dictionary. Add in an optional parameter called `vocab` that defaults to `None`. This way, if we are using a vocabulary that contains words not seen in the song, we can still use this function by passing it into the `vocab` parameter. \n",
    "\n",
    "**_Hint:_**  Consider using a `set()` to make this easier!"
   ]
  },
  {
   "cell_type": "code",
   "execution_count": 41,
   "metadata": {},
   "outputs": [
    {
     "name": "stdout",
     "output_type": "stream",
     "text": [
      "{'moral': 1, 'bullet': 1, 'rebound': 1, 'your': 5, 'confrontation': 1, 'false': 1, 'mans': 1, 'stars': 18, 'thats': 2, 'youre': 1, 'look': 1, 'percentage': 1, 'tryna': 1, 'bad': 1, 'motherfucker': 1, 'tell': 1, 'new': 1, 'dealin': 1, 'heart': 1, 'way': 2, 'shit': 1, 'live': 1, 'game': 1, 'crazy': 1, 'buildin': 1, 'fuck': 1, 'of': 1, 'im': 3, 'stay': 1, 'who': 2, 'no': 4, 'kinda': 1, 'that': 8, 'calculated': 1, 'at': 2, 'wont': 1, 'loved': 1, 'ego': 1, 'better': 1, 'losin': 1, 'hate': 1, 'gon': 1, 'can': 1, 'approach': 9, 'days': 1, 'oh': 1, 'i': 15, 'even': 2, 'talkin': 1, 'reason': 3, 'good': 1, 'may': 6, 'dreams': 6, 'but': 1, 'be': 6, 'cant': 1, 'invite': 1, 'aint': 4, 'the': 38, 'want': 2, 'gift': 1, 'get': 2, 'might': 6, 'about': 3, 'it': 7, 'let': 6, 'hours': 1, 'and': 6, 'anything': 3, 'hoped': 3, 'away': 1, 'another': 2, 'ya': 1, 'love': 6, 'involved': 1, 'breathin': 1, 'life': 2, 'covered': 1, 'move': 1, 'wouldnt': 1, 'story': 1, 'feeling': 7, 'conversation': 1, 'momma': 1, 'important': 1, 'endorsin': 1, 'runnin': 1, 'a': 7, 'sword': 1, 'me': 14, 'everything': 3, 'like': 6, 'in': 2, 'congratulations': 1, 'dont': 2, 'skin': 1, 'bring': 4, 'haunt': 6, 'my': 7, 'find': 1, 'credit': 1, 'just': 2, 'corrupt': 1, 'did': 1, 'time': 1, 'this': 6, 'prayin': 1, 'cause': 2, 'making': 1, 'feel': 4, 'how': 1, 'nobody': 1, 'are': 9, 'expectations': 1, 'closer': 9, 'night': 6, 'ever': 1, 'is': 3, 'truth': 1, 'all': 22, 'small': 1, 'people': 1, 'to': 6, 'talk': 3, 'if': 3, 'entitled': 1, 'for': 7, 'what': 1, 'were': 1, 'out': 2, 'you': 34, 'recognize': 1, 'or': 4, 'from': 1, 'give': 1, 'winnin': 1, 'got': 3, 'realest': 1, 'lets': 3, 'end': 1, 'nothin': 1, 'its': 1, 'thanks': 1, 'on': 1, 'cryin': 1, 'morgue': 1, 'promises': 1, 'down': 1, 'confidence': 1, 'know': 9, 'do': 8, 'with': 3}\n"
     ]
    }
   ],
   "source": [
    "def count_vectorize(song, vocab=None):\n",
    "    if vocab:\n",
    "        unique = vocab\n",
    "    else:\n",
    "        unique = list(set(song))\n",
    "    bow = {word:0 for word in unique}\n",
    "    for word in song:\n",
    "        bow[word] += 1\n",
    "    return bow\n",
    "\n",
    "test_vectorized = count_vectorize(tokenized_test_song, vocab=None)\n",
    "print(test_vectorized)"
   ]
  },
  {
   "cell_type": "markdown",
   "metadata": {},
   "source": [
    "Great! You've just successfully vectorized your first text document! Now, let's look at a more advanced type of vectorization, TF-IDF!\n",
    "\n",
    "### TF-IDF Vectorization\n",
    "\n",
    "TF-IDF stands for **_Term Frequency, Inverse Document Frequency_**.  This is a more advanced form of vectorization that weighs each term in a document by how unique it is to the given document it is contained in, which allows us to summarize the contents of a document using a few key words.  If the word is used often in many other documents, it is not unique, and therefore probably not too useful if we wanted to figure out how this document is unique in relation to other documents. Conversely, if a word is used many times in a document, but rarely in all the other documents we are considering, then it is likely a good indicator for telling us that this word is important to the document in question.  \n",
    "\n",
    "The formula TF-IDF uses to determine the weights of each term in a document is **_Term Frequency_** multiplied by **_Inverse Document Frequency_**, where the formula for Term Frequency is:\n",
    "\n",
    "$$\\large Term\\ Frequency(t) = \\frac{number\\ of\\ times\\ t\\ appears\\ in\\ a\\ document} {total\\ number\\ of\\ terms\\ in\\ the\\ document} $$\n",
    "<br>\n",
    "<br>\n",
    "Complete the following function below to calculate term frequency for every term in a document.  "
   ]
  },
  {
   "cell_type": "code",
   "execution_count": 54,
   "metadata": {},
   "outputs": [
    {
     "name": "stdout",
     "output_type": "stream",
     "text": [
      "['look', 'percentage', 'tryna', 'bad', 'motherfucker', 'tell', 'new', 'dealin', 'heart', 'way']\n"
     ]
    }
   ],
   "source": [
    "def term_frequency(BoW_dict):\n",
    "    term_freqs = {}\n",
    "    total = sum(BoW_dict.values())\n",
    "    for key in BoW_dict.keys():\n",
    "        term_freqs[key] = BoW_dict[key] / total\n",
    "    return term_freqs\n",
    "\n",
    "test = term_frequency(test_vectorized)\n",
    "print(list(test)[10:20])"
   ]
  },
  {
   "cell_type": "code",
   "execution_count": 81,
   "metadata": {},
   "outputs": [
    {
     "data": {
      "text/plain": [
       "{'moral': 0.0020833333333333333,\n",
       " 'bullet': 0.0020833333333333333,\n",
       " 'rebound': 0.0020833333333333333,\n",
       " 'your': 0.010416666666666666,\n",
       " 'confrontation': 0.0020833333333333333,\n",
       " 'false': 0.0020833333333333333,\n",
       " 'mans': 0.0020833333333333333,\n",
       " 'stars': 0.0375,\n",
       " 'thats': 0.004166666666666667,\n",
       " 'youre': 0.0020833333333333333,\n",
       " 'look': 0.0020833333333333333,\n",
       " 'percentage': 0.0020833333333333333,\n",
       " 'tryna': 0.0020833333333333333,\n",
       " 'bad': 0.0020833333333333333,\n",
       " 'motherfucker': 0.0020833333333333333,\n",
       " 'tell': 0.0020833333333333333,\n",
       " 'new': 0.0020833333333333333,\n",
       " 'dealin': 0.0020833333333333333,\n",
       " 'heart': 0.0020833333333333333,\n",
       " 'way': 0.004166666666666667,\n",
       " 'shit': 0.0020833333333333333,\n",
       " 'live': 0.0020833333333333333,\n",
       " 'game': 0.0020833333333333333,\n",
       " 'crazy': 0.0020833333333333333,\n",
       " 'buildin': 0.0020833333333333333,\n",
       " 'fuck': 0.0020833333333333333,\n",
       " 'of': 0.0020833333333333333,\n",
       " 'im': 0.00625,\n",
       " 'stay': 0.0020833333333333333,\n",
       " 'who': 0.004166666666666667,\n",
       " 'no': 0.008333333333333333,\n",
       " 'kinda': 0.0020833333333333333,\n",
       " 'that': 0.016666666666666666,\n",
       " 'calculated': 0.0020833333333333333,\n",
       " 'at': 0.004166666666666667,\n",
       " 'wont': 0.0020833333333333333,\n",
       " 'loved': 0.0020833333333333333,\n",
       " 'ego': 0.0020833333333333333,\n",
       " 'better': 0.0020833333333333333,\n",
       " 'losin': 0.0020833333333333333,\n",
       " 'hate': 0.0020833333333333333,\n",
       " 'gon': 0.0020833333333333333,\n",
       " 'can': 0.0020833333333333333,\n",
       " 'approach': 0.01875,\n",
       " 'days': 0.0020833333333333333,\n",
       " 'oh': 0.0020833333333333333,\n",
       " 'i': 0.03125,\n",
       " 'even': 0.004166666666666667,\n",
       " 'talkin': 0.0020833333333333333,\n",
       " 'reason': 0.00625,\n",
       " 'good': 0.0020833333333333333,\n",
       " 'may': 0.0125,\n",
       " 'dreams': 0.0125,\n",
       " 'but': 0.0020833333333333333,\n",
       " 'be': 0.0125,\n",
       " 'cant': 0.0020833333333333333,\n",
       " 'invite': 0.0020833333333333333,\n",
       " 'aint': 0.008333333333333333,\n",
       " 'the': 0.07916666666666666,\n",
       " 'want': 0.004166666666666667,\n",
       " 'gift': 0.0020833333333333333,\n",
       " 'get': 0.004166666666666667,\n",
       " 'might': 0.0125,\n",
       " 'about': 0.00625,\n",
       " 'it': 0.014583333333333334,\n",
       " 'let': 0.0125,\n",
       " 'hours': 0.0020833333333333333,\n",
       " 'and': 0.0125,\n",
       " 'anything': 0.00625,\n",
       " 'hoped': 0.00625,\n",
       " 'away': 0.0020833333333333333,\n",
       " 'another': 0.004166666666666667,\n",
       " 'ya': 0.0020833333333333333,\n",
       " 'love': 0.0125,\n",
       " 'involved': 0.0020833333333333333,\n",
       " 'breathin': 0.0020833333333333333,\n",
       " 'life': 0.004166666666666667,\n",
       " 'covered': 0.0020833333333333333,\n",
       " 'move': 0.0020833333333333333,\n",
       " 'wouldnt': 0.0020833333333333333,\n",
       " 'story': 0.0020833333333333333,\n",
       " 'feeling': 0.014583333333333334,\n",
       " 'conversation': 0.0020833333333333333,\n",
       " 'momma': 0.0020833333333333333,\n",
       " 'important': 0.0020833333333333333,\n",
       " 'endorsin': 0.0020833333333333333,\n",
       " 'runnin': 0.0020833333333333333,\n",
       " 'a': 0.014583333333333334,\n",
       " 'sword': 0.0020833333333333333,\n",
       " 'me': 0.029166666666666667,\n",
       " 'everything': 0.00625,\n",
       " 'like': 0.0125,\n",
       " 'in': 0.004166666666666667,\n",
       " 'congratulations': 0.0020833333333333333,\n",
       " 'dont': 0.004166666666666667,\n",
       " 'skin': 0.0020833333333333333,\n",
       " 'bring': 0.008333333333333333,\n",
       " 'haunt': 0.0125,\n",
       " 'my': 0.014583333333333334,\n",
       " 'find': 0.0020833333333333333,\n",
       " 'credit': 0.0020833333333333333,\n",
       " 'just': 0.004166666666666667,\n",
       " 'corrupt': 0.0020833333333333333,\n",
       " 'did': 0.0020833333333333333,\n",
       " 'time': 0.0020833333333333333,\n",
       " 'this': 0.0125,\n",
       " 'prayin': 0.0020833333333333333,\n",
       " 'cause': 0.004166666666666667,\n",
       " 'making': 0.0020833333333333333,\n",
       " 'feel': 0.008333333333333333,\n",
       " 'how': 0.0020833333333333333,\n",
       " 'nobody': 0.0020833333333333333,\n",
       " 'are': 0.01875,\n",
       " 'expectations': 0.0020833333333333333,\n",
       " 'closer': 0.01875,\n",
       " 'night': 0.0125,\n",
       " 'ever': 0.0020833333333333333,\n",
       " 'is': 0.00625,\n",
       " 'truth': 0.0020833333333333333,\n",
       " 'all': 0.04583333333333333,\n",
       " 'small': 0.0020833333333333333,\n",
       " 'people': 0.0020833333333333333,\n",
       " 'to': 0.0125,\n",
       " 'talk': 0.00625,\n",
       " 'if': 0.00625,\n",
       " 'entitled': 0.0020833333333333333,\n",
       " 'for': 0.014583333333333334,\n",
       " 'what': 0.0020833333333333333,\n",
       " 'were': 0.0020833333333333333,\n",
       " 'out': 0.004166666666666667,\n",
       " 'you': 0.07083333333333333,\n",
       " 'recognize': 0.0020833333333333333,\n",
       " 'or': 0.008333333333333333,\n",
       " 'from': 0.0020833333333333333,\n",
       " 'give': 0.0020833333333333333,\n",
       " 'winnin': 0.0020833333333333333,\n",
       " 'got': 0.00625,\n",
       " 'realest': 0.0020833333333333333,\n",
       " 'lets': 0.00625,\n",
       " 'end': 0.0020833333333333333,\n",
       " 'nothin': 0.0020833333333333333,\n",
       " 'its': 0.0020833333333333333,\n",
       " 'thanks': 0.0020833333333333333,\n",
       " 'on': 0.0020833333333333333,\n",
       " 'cryin': 0.0020833333333333333,\n",
       " 'morgue': 0.0020833333333333333,\n",
       " 'promises': 0.0020833333333333333,\n",
       " 'down': 0.0020833333333333333,\n",
       " 'confidence': 0.0020833333333333333,\n",
       " 'know': 0.01875,\n",
       " 'do': 0.016666666666666666,\n",
       " 'with': 0.00625}"
      ]
     },
     "execution_count": 81,
     "metadata": {},
     "output_type": "execute_result"
    }
   ],
   "source": [
    "test"
   ]
  },
  {
   "cell_type": "markdown",
   "metadata": {},
   "source": [
    "Now that we have this, we can easily calculate _Inverse Document Frequency_.  In the cell below, complete the following function.  this function should take in the list of dictionaries, with each item in the list being a bag of words representing the words in a different song. The function should return a dictionary containing the inverse document frequency values for each word.  \n",
    "\n",
    "The formula for Inverse Document Frequency is:  \n",
    "<br>  \n",
    "<br>\n",
    "$$\\large  IDF(t) =  log_e(\\frac{Total\\ Number\\ of\\ Documents}{Number\\ of\\ Documents\\ with\\ t\\ in\\ it})$$"
   ]
  },
  {
   "cell_type": "code",
   "execution_count": 104,
   "metadata": {},
   "outputs": [],
   "source": [
    "def inverse_document_frequency(list_of_dicts):\n",
    "    idf = {}\n",
    "    vocab = set()\n",
    "    for d in list_of_dicts:\n",
    "        for word in d.keys():\n",
    "            vocab.add(word)\n",
    "    num = len(list_of_dicts)\n",
    "    for v in vocab:\n",
    "        count = 0\n",
    "        for d in list_of_dicts:\n",
    "            if v in d.keys():\n",
    "                count+=1\n",
    "        idf[v] = np.log(num/count)\n",
    "        \n",
    "    return (len(vocab), idf)"
   ]
  },
  {
   "cell_type": "markdown",
   "metadata": {},
   "source": [
    "### Computing TF-IDF\n",
    "\n",
    "Now that we can compute both Term Frequency and Inverse Document Frequency, computing an overall TF-IDF value is simple! All we need to do is multiply the two values.  \n",
    "\n",
    "In the cell below, complete the `tf_idf()` function.  This function should take in a list of dictionaries, just as the `inverse_document_frequency()` function did.  This function returns a new list of dictionaries, with each dictionary containing the tf-idf vectorized representation of a corresponding song document. \n",
    "\n",
    "**_NOTE:_** Each document should contain the full vocabulary of the entire combined corpus.  "
   ]
  },
  {
   "cell_type": "code",
   "execution_count": 124,
   "metadata": {},
   "outputs": [],
   "source": [
    "def tf_idf(list_of_dicts):\n",
    "    tfidf = [term_frequency(d) for d in list_of_dicts]\n",
    "    n, idf = inverse_document_frequency(list_of_dicts)\n",
    "    for tf in tfidf:\n",
    "        for k in list(idf.keys()):\n",
    "            if k in tf.keys():\n",
    "                tf[k] = tf[k]*idf[k]\n",
    "            else:\n",
    "                tf[k]=0\n",
    "    return n, tfidf"
   ]
  },
  {
   "cell_type": "markdown",
   "metadata": {},
   "source": [
    "### Vectorizing All Documents\n",
    "\n",
    "Now that we've created all the necessary helper functions, we can load in all of our documents and run each through the vectorization pipeline we've just created.\n",
    "\n",
    "In the cell below, complete the `main()` function.  This function should take in a list of file names (provided for you in the `filenames` list we created at the start), and then:\n",
    "\n",
    "- Read in each document\n",
    "- Tokenize each document\n",
    "- Convert each document to a bag of words (dictionary representation)\n",
    "- Return a list of dictionaries vectorized using tf-idf, where each dictionary is a vectorized representation of a document "
   ]
  },
  {
   "cell_type": "code",
   "execution_count": 125,
   "metadata": {},
   "outputs": [
    {
     "name": "stdout",
     "output_type": "stream",
     "text": [
      "['gods', 'bullet', 'pristine', 'luck', 'ear', 'fourteen', 'each', 'nimbus', 'runneth', 'kept']\n"
     ]
    }
   ],
   "source": [
    "def main(filenames):\n",
    "    files = [open('data/'+f, 'r').readlines() for f in filenames]\n",
    "    clean_files = [clean_song(f) for f in files]\n",
    "    tokens = [tokenize(cf) for cf in clean_files]\n",
    "    count_vectors = [count_vectorize(t) for t in tokens]\n",
    "    n, tfidfs = tf_idf(count_vectors)\n",
    "    return n, tfidfs\n",
    "    \n",
    "\n",
    "n, tf_idf_all_docs = main(filenames)\n",
    "print(list(tf_idf_all_docs[0])[:10])"
   ]
  },
  {
   "cell_type": "markdown",
   "metadata": {},
   "source": [
    "### Visualizing our Vectorizations\n",
    "\n",
    "Now that we have a tf-idf representation of each document, we can move on to the fun part -- visualizing everything!\n",
    "\n",
    "In the cell below, examine our dataset to figure out how many dimensions our dataset has. \n",
    "\n",
    "**_HINT_**: Remember that every word is its own dimension!"
   ]
  },
  {
   "cell_type": "code",
   "execution_count": 126,
   "metadata": {},
   "outputs": [
    {
     "name": "stdout",
     "output_type": "stream",
     "text": [
      "Number of Dimensions: 1347\n"
     ]
    }
   ],
   "source": [
    "num_dims = n\n",
    "print(\"Number of Dimensions: {}\".format(num_dims))"
   ]
  },
  {
   "cell_type": "markdown",
   "metadata": {},
   "source": [
    "There are too many dimensions for us to visualize! In order to make it understandable to human eyes, we'll need to reduce it to 2 or 3 dimensions.  \n",
    "\n",
    "To do this, we'll use a technique called **_t-SNE_** (short for _t-Stochastic Neighbors Embedding_).  This is too complex for us to code ourselves, so we'll make use of scikit-learn's implementation of it.  \n",
    "\n",
    "First, we need to pull the words out of the dictionaries stored in `tf_idf_all_docs` so that only the values remain, and store them in lists instead of dictionaries.  This is because the t-SNE only works with array-like objects, not dictionaries.  \n",
    "\n",
    "In the cell below, create a list of lists that contains a list representation of the values of each of the dictionaries stored in `tf_idf_all_docs`.  The same structure should remain -- e.g. the first list should contain only the values that were in the first dictionary in `tf_idf_all_docs`, and so on. "
   ]
  },
  {
   "cell_type": "code",
   "execution_count": 127,
   "metadata": {},
   "outputs": [
    {
     "data": {
      "text/plain": [
       "[0.027399990306896257,\n",
       " 0.007020076503030628,\n",
       " 0.009133330102298753,\n",
       " 0.027399990306896257,\n",
       " 0.009133330102298753,\n",
       " 0.009133330102298753,\n",
       " 0.021060229509091883,\n",
       " 0.009133330102298753,\n",
       " 0.027399990306896257,\n",
       " 0.007020076503030628]"
      ]
     },
     "execution_count": 127,
     "metadata": {},
     "output_type": "execute_result"
    }
   ],
   "source": [
    "tf_idf_vals_list = [list(i.values()) for i in tf_idf_all_docs]\n",
    "    \n",
    "tf_idf_vals_list[0][:10]"
   ]
  },
  {
   "cell_type": "code",
   "execution_count": 128,
   "metadata": {},
   "outputs": [
    {
     "data": {
      "text/plain": [
       "1347"
      ]
     },
     "execution_count": 128,
     "metadata": {},
     "output_type": "execute_result"
    }
   ],
   "source": [
    "len(tf_idf_vals_list[0])"
   ]
  },
  {
   "cell_type": "markdown",
   "metadata": {},
   "source": [
    "Now that we have only the values, we can use the `TSNE()` class from `sklearn` to transform our data appropriately.  In the cell below, instantiate `TSNE()` with `n_components=3`.  Then, use the created object's `.fit_transform()` method to transform the data stored in `tf_idf_vals_list` into 3-dimensional data.  Then, inspect the newly transformed data to confirm that it has the correct dimensionality. "
   ]
  },
  {
   "cell_type": "code",
   "execution_count": 131,
   "metadata": {},
   "outputs": [
    {
     "data": {
      "text/plain": [
       "array([[-264.964    , -151.70482  ,   33.634094 ],\n",
       "       [ 154.1186   , -137.40945  ,   -4.798117 ],\n",
       "       [ -30.813658 , -157.51443  ,   99.20261  ],\n",
       "       [ -77.823105 ,  -88.59817  ,  271.43732  ],\n",
       "       [ 134.09038  ,  318.8414   ,  113.27454  ],\n",
       "       [ 345.00668  ,   13.429657 ,   -6.5788136],\n",
       "       [ 234.99889  ,   84.13322  , -183.8225   ],\n",
       "       [  24.702557 ,   98.656136 ,  267.1552   ],\n",
       "       [ 171.5343   ,  -86.05869  ,  190.1651   ],\n",
       "       [   1.2077911,   27.868269 , -272.39023  ],\n",
       "       [  71.65155  , -155.38855  , -187.88594  ],\n",
       "       [ -92.84011  ,  174.6269   , -132.6398   ],\n",
       "       [ -87.90575  , -239.49837  ,  -71.77732  ],\n",
       "       [  76.97979  ,   55.683132 ,   93.14375  ],\n",
       "       [  76.44714  ,   38.793636 ,  -93.577194 ],\n",
       "       [ -88.9151   ,  183.33784  ,   74.15148  ],\n",
       "       [-214.38364  ,  -26.91562  , -171.10501  ],\n",
       "       [ -82.312965 ,  -26.529938 ,  -36.41471  ],\n",
       "       [-205.47029  ,   24.41236  ,  116.45389  ],\n",
       "       [ 153.77605  ,  197.28934  ,  -20.655811 ]], dtype=float32)"
      ]
     },
     "execution_count": 131,
     "metadata": {},
     "output_type": "execute_result"
    }
   ],
   "source": [
    "t_sne_object_3d = TSNE(n_components=3)\n",
    "transformed_data_3d = t_sne_object_3d.fit_transform(tf_idf_vals_list)\n",
    "transformed_data_3d"
   ]
  },
  {
   "cell_type": "markdown",
   "metadata": {},
   "source": [
    "We'll also want to check out how the visualization looks in 2d.  Repeat the process above, but this time, instantiate `TSNE()` with 2 components instead of 3.  Again, use `.fit_transform()` to transform the data and store it in the variable below, and then inspect it to confirm the transformed data has only 2 dimensions. "
   ]
  },
  {
   "cell_type": "code",
   "execution_count": 130,
   "metadata": {},
   "outputs": [
    {
     "data": {
      "text/plain": [
       "array([[  62.60412 ,  -19.553555],\n",
       "       [  46.737255,  298.64847 ],\n",
       "       [-233.72011 ,  173.76495 ],\n",
       "       [-169.00194 ,   27.48248 ],\n",
       "       [-124.593376,  316.01697 ],\n",
       "       [-315.98236 ,   16.857254],\n",
       "       [  38.82887 , -306.46918 ],\n",
       "       [ 319.7043  ,  -58.278156],\n",
       "       [ 177.5707  ,  -92.142685],\n",
       "       [ 202.77925 , -237.26685 ],\n",
       "       [-112.29281 , -238.27904 ],\n",
       "       [ 312.89975 ,  116.49124 ],\n",
       "       [ -75.85629 ,  177.6034  ],\n",
       "       [-230.03459 , -131.0503  ],\n",
       "       [ -39.715614,   51.52462 ],\n",
       "       [  42.577362, -158.19879 ],\n",
       "       [  67.443016,  143.24362 ],\n",
       "       [ 195.22209 ,  233.94406 ],\n",
       "       [ 177.05208 ,   57.773193],\n",
       "       [ -76.893364,  -86.279976]], dtype=float32)"
      ]
     },
     "execution_count": 130,
     "metadata": {},
     "output_type": "execute_result"
    }
   ],
   "source": [
    "t_sne_object_2d = TSNE(n_components=2)\n",
    "transformed_data_2d = t_sne_object_2d.fit_transform(tf_idf_vals_list)\n",
    "transformed_data_2d"
   ]
  },
  {
   "cell_type": "markdown",
   "metadata": {},
   "source": [
    "Now, let's visualize everything!  Run the cell below to view both 3D and 2D visualizations of the songs."
   ]
  },
  {
   "cell_type": "code",
   "execution_count": 132,
   "metadata": {},
   "outputs": [
    {
     "data": {
      "image/png": "[encoded data removed]",
      "text/plain": [
       "<Figure size 720x360 with 1 Axes>"
      ]
     },
     "metadata": {
      "needs_background": "light"
     },
     "output_type": "display_data"
    },
    {
     "data": {
      "image/png": "[encoded data removed]",
      "text/plain": [
       "<Figure size 1440x720 with 1 Axes>"
      ]
     },
     "metadata": {
      "needs_background": "light"
     },
     "output_type": "display_data"
    }
   ],
   "source": [
    "kendrick_3d = transformed_data_3d[:10]\n",
    "k3_x = [i[0] for i in kendrick_3d]\n",
    "k3_y = [i[1] for i in kendrick_3d]\n",
    "k3_z = [i[2] for i in kendrick_3d]\n",
    "\n",
    "garth_3d = transformed_data_3d[10:]\n",
    "g3_x = [i[0] for i in garth_3d]\n",
    "g3_y = [i[1] for i in garth_3d]\n",
    "g3_z = [i[2] for i in garth_3d]\n",
    "\n",
    "fig = plt.figure(figsize=(10,5))\n",
    "ax = fig.add_subplot(111, projection='3d')\n",
    "ax.scatter(k3_x, k3_y, k3_z, c='b', s=60, label='Kendrick')\n",
    "ax.scatter(g3_x, g3_y, g3_z, c='red', s=60, label='Garth')\n",
    "ax.view_init(30, 10)\n",
    "ax.legend()\n",
    "plt.show()\n",
    "\n",
    "kendrick_2d = transformed_data_2d[:10]\n",
    "k2_x = [i[0] for i in kendrick_2d]\n",
    "k2_y = [i[1] for i in kendrick_2d]\n",
    "\n",
    "garth_2d = transformed_data_2d[10:]\n",
    "g2_x = [i[0] for i in garth_2d]\n",
    "g2_y = [i[1] for i in garth_2d]\n",
    "\n",
    "fig = plt.figure(figsize=(20,10))\n",
    "ax = fig.add_subplot(222)\n",
    "ax.scatter(k2_x, k2_y, c='b', label='Kendrick')\n",
    "ax.scatter(g2_x, g2_y, c='red', label='Garth')\n",
    "ax.legend()\n",
    "plt.show()"
   ]
  },
  {
   "cell_type": "markdown",
   "metadata": {},
   "source": [
    "Interesting! Take a crack at interpreting these graphs by answering the following questions below:\n",
    "\n",
    "What does each graph mean? Do you find one graph more informative than the other? Do you think that this method shows us discernable differences between Kendrick Lamar songs and Garth Brooks songs?  Use the graphs and your understanding of TF-IDF to support your answer.  \n",
    "\n",
    "Write your answer to this question below this line:\n",
    "________________________________________________________________________________________________________________________________\n",
    "\n",
    "Both graphs show a basic trend among the red and blue dots, although the 3-dimensional graph is more informative than the 2-dimensional graph. We see a separation between the two artists because they both have words that they use, but the other artist does not. The words in each song that are common to both are reduced to very small numbers or to 0, because of the log operation in the IDF function.  This means that the elements of each song vector with the highest values will be the ones that have words that are unique to that specific document, or at least are rarely used in others.  "
   ]
  },
  {
   "cell_type": "markdown",
   "metadata": {},
   "source": [
    "## Summary\n",
    "\n",
    "In this lab, you learned how to: \n",
    "* Tokenize a corpus of words and identify the different choices to be made while parsing them \n",
    "* Use a count vectorization strategy to create a bag of words\n",
    "* Use TF-IDF vectorization with multiple documents to identify words that are important/unique to certain documents\n",
    "* Visualize and compare vectorized text documents"
   ]
  }
 ],
 "metadata": {
  "kernelspec": {
   "display_name": "Python 3",
   "language": "python",
   "name": "python3"
  },
  "language_info": {
   "codemirror_mode": {
    "name": "ipython",
    "version": 3
   },
   "file_extension": ".py",
   "mimetype": "text/x-python",
   "name": "python",
   "nbconvert_exporter": "python",
   "pygments_lexer": "ipython3",
   "version": "3.6.9"
  }
 },
 "nbformat": 4,
 "nbformat_minor": 2
}
